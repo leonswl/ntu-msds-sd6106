{
 "cells": [
  {
   "cell_type": "code",
   "execution_count": null,
   "metadata": {},
   "outputs": [],
   "source": []
  },
  {
   "cell_type": "code",
   "execution_count": 1,
   "metadata": {},
   "outputs": [
    {
     "name": "stderr",
     "output_type": "stream",
     "text": [
      "/Users/leonsun/Documents/GitHub/ntu-msds-ai6106/.venv2/lib/python3.11/site-packages/tqdm/auto.py:21: TqdmWarning: IProgress not found. Please update jupyter and ipywidgets. See https://ipywidgets.readthedocs.io/en/stable/user_install.html\n",
      "  from .autonotebook import tqdm as notebook_tqdm\n"
     ]
    }
   ],
   "source": [
    "from typing import Tuple\n",
    "\n",
    "from datasets import Dataset, load_dataset"
   ]
  },
  {
   "cell_type": "code",
   "execution_count": 2,
   "metadata": {},
   "outputs": [],
   "source": [
    "import tqdm as notebook_tqdm"
   ]
  },
  {
   "cell_type": "code",
   "execution_count": null,
   "metadata": {},
   "outputs": [],
   "source": [
    "def train_valid_test_split(dataset:Dataset, seed:int=None):\n",
    "    \"\"\"\n",
    "    Split dataset into train (80%), valid (10%) and test set (10%)\n",
    "    \n",
    "    Args:\n",
    "        dataset (Dataset): loaded huggingface dataset\n",
    "        seed (int): seed value for train_test_split()\n",
    "\n",
    "    Returns\n",
    "        train_set (Dataset)\n",
    "        validation_set (Dataset)\n",
    "        test_set (Dataset)\n",
    "    \"\"\"\n",
    "    # split dataset into train and test\n",
    "    train_test_split = dataset.train_test_split(test_size=0.2, seed=seed)\n",
    "    # split test set into valid and test\n",
    "    validation_test_split = train_test_split['test'].train_test_split(test_size=0.5, seed=seed)\n",
    "\n",
    "    # New splits\n",
    "    train_set = train_test_split['train']\n",
    "    validation_set = validation_test_split['train']\n",
    "    test_set = validation_test_split['test']\n",
    "\n",
    "    return train_set, validation_set, test_set"
   ]
  },
  {
   "cell_type": "code",
   "execution_count": null,
   "metadata": {},
   "outputs": [],
   "source": [
    "def load_data(dataset_name: str) -> Tuple[Dataset, Dataset, Dataset]:\n",
    "    \"\"\"\n",
    "    Load data from HuggingFace Hub\n",
    "    \n",
    "    Args:\n",
    "        dataset_name (str): name of dataset in huggingface\n",
    "\n",
    "    Returns:\n",
    "        train_set (Dataset)\n",
    "        validation_set (Dataset)\n",
    "        test_set (Dataset)\n",
    "    \"\"\"\n",
    "    trainset = load_dataset(dataset_name)\n",
    "    trainset = trainset.rename_column(\"output\", \"response\")\n",
    "    \n",
    "    train_set, validation_set, test_set = train_valid_test_split(dataset=trainset, seed=28)\n",
    "\n",
    "    return train_set, validation_set, test_set"
   ]
  },
  {
   "cell_type": "code",
   "execution_count": 2,
   "metadata": {},
   "outputs": [],
   "source": [
    "def train_valid_test_split(dataset:Dataset, seed:int=None):\n",
    "    \"\"\"\n",
    "    Split dataset into train (80%), valid (10%) and test set (10%)\n",
    "    \n",
    "    Args:\n",
    "        dataset (Dataset): loaded huggingface dataset\n",
    "        seed (int): seed value for train_test_split()\n",
    "\n",
    "    Returns\n",
    "        train_set (Dataset)\n",
    "        validation_set (Dataset)\n",
    "        test_set (Dataset)\n",
    "    \"\"\"\n",
    "    # split dataset into train and test\n",
    "    train_test_split = dataset.train_test_split(test_size=0.2, seed=seed)\n",
    "    # split test set into valid and test\n",
    "    validation_test_split = train_test_split['test'].train_test_split(test_size=0.5, seed=seed)\n",
    "\n",
    "    # New splits\n",
    "    train_set = train_test_split['train']\n",
    "    validation_set = validation_test_split['train']\n",
    "    test_set = validation_test_split['test']\n",
    "\n",
    "    return train_set, validation_set, test_set"
   ]
  },
  {
   "cell_type": "code",
   "execution_count": null,
   "metadata": {},
   "outputs": [],
   "source": [
    "dataset_name = \"4DR1455/finance_questions\"\n",
    "seed = 28\n",
    "\n",
    "trainset = load_dataset(dataset_name)\n",
    "trainset = trainset.rename_column(\"output\", \"response\")"
   ]
  },
  {
   "cell_type": "code",
   "execution_count": 7,
   "metadata": {},
   "outputs": [
    {
     "data": {
      "text/plain": [
       "Dataset({\n",
       "    features: ['instruction', 'input', 'response'],\n",
       "    num_rows: 53937\n",
       "})"
      ]
     },
     "execution_count": 7,
     "metadata": {},
     "output_type": "execute_result"
    }
   ],
   "source": [
    "trainset['train']"
   ]
  },
  {
   "cell_type": "code",
   "execution_count": 9,
   "metadata": {},
   "outputs": [],
   "source": [
    "train_set, validation_set, test_set = train_valid_test_split(dataset=trainset['train'], seed=28)"
   ]
  },
  {
   "cell_type": "code",
   "execution_count": 3,
   "metadata": {},
   "outputs": [],
   "source": [
    "dataset_name = \"4DR1455/finance_questions\"\n",
    "\n",
    "trainset = load_dataset(dataset_name)"
   ]
  },
  {
   "cell_type": "code",
   "execution_count": 5,
   "metadata": {},
   "outputs": [
    {
     "data": {
      "text/plain": [
       "Dataset({\n",
       "    features: ['instruction', 'input', 'output'],\n",
       "    num_rows: 53937\n",
       "})"
      ]
     },
     "execution_count": 5,
     "metadata": {},
     "output_type": "execute_result"
    }
   ],
   "source": [
    "trainset['train']"
   ]
  }
 ],
 "metadata": {
  "kernelspec": {
   "display_name": ".venv2",
   "language": "python",
   "name": "python3"
  },
  "language_info": {
   "codemirror_mode": {
    "name": "ipython",
    "version": 3
   },
   "file_extension": ".py",
   "mimetype": "text/x-python",
   "name": "python",
   "nbconvert_exporter": "python",
   "pygments_lexer": "ipython3",
   "version": "3.11.9"
  }
 },
 "nbformat": 4,
 "nbformat_minor": 2
}
