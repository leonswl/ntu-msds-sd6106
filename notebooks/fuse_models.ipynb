{
 "cells": [
  {
   "cell_type": "markdown",
   "metadata": {},
   "source": [
    "# Fuse Models"
   ]
  },
  {
   "cell_type": "code",
   "execution_count": 2,
   "metadata": {},
   "outputs": [],
   "source": [
    "from transformers import AutoModelForCausalLM, AutoTokenizer, AutoModelForSeq2SeqLM\n",
    "from peft import PeftModel, PeftConfig, AutoPeftModelForSeq2SeqLM\n",
    "import tqdm as notebook_tqdm"
   ]
  },
  {
   "cell_type": "code",
   "execution_count": 3,
   "metadata": {},
   "outputs": [
    {
     "name": "stdout",
     "output_type": "stream",
     "text": [
      "'NoneType' object has no attribute 'cadam32bit_grad_fp32'\n"
     ]
    },
    {
     "name": "stderr",
     "output_type": "stream",
     "text": [
      "/Users/leonsun/Documents/GitHub/ntu-msds-ai6106/.venv2/lib/python3.11/site-packages/bitsandbytes/cextension.py:34: UserWarning: The installed version of bitsandbytes was compiled without GPU support. 8-bit optimizers, 8-bit multiplication, and GPU quantization are unavailable.\n",
      "  warn(\"The installed version of bitsandbytes was compiled without GPU support. \"\n"
     ]
    }
   ],
   "source": [
    "SEQUENCE_MODELS = [\n",
    "        \"google-t5/t5-base\",\n",
    "        \"google-t5/t5-small\"\n",
    "        ]\n",
    "\n",
    "# Load base model\n",
    "# base_model_name = \"TinyLlama/TinyLlama-1.1B-Chat-v1.0\"\n",
    "# base_model_name = \"google-t5/t5-base\"\n",
    "base_model_name = \"google-t5/t5-small\"\n",
    "\n",
    "tokenizer = AutoTokenizer.from_pretrained(\n",
    "        base_model_name,\n",
    "        load_in_8bit=True,\n",
    "        device_map=\"auto\", \n",
    "        use_fast=True,\n",
    "        padding_side=\"right\"\n",
    "        )\n",
    "tokenizer.pad_token = tokenizer.eos_token\n",
    "# if base_model_name in SEQUENCE_MODELS:\n",
    "#   model = AutoModelForSeq2SeqLM.from_pretrained(base_model_name)\n",
    "# else:\n",
    "#   model = AutoModelForCausalLM.from_pretrained(base_model_name)\n",
    "\n",
    "# Load LoRA-adapted model\n",
    "peft_model_local_path = \"models/google-t5/t5-small/2025-02-13/02-44-10\"\n",
    "peft_model_path = f\"../{peft_model_local_path}\"\n",
    "# peft_config = PeftConfig.from_pretrained(peft_model_path)\n",
    "model = AutoPeftModelForSeq2SeqLM.from_pretrained(peft_model_path)\n",
    "\n",
    "# set output directory for saving models and tokenizers\n",
    "output_dir = f\"../{peft_model_local_path}/fused_model\"\n"
   ]
  },
  {
   "cell_type": "code",
   "execution_count": null,
   "metadata": {},
   "outputs": [],
   "source": [
    "# fuse lora weights\n",
    "model = model.merge_and_unload()\n",
    "\n"
   ]
  },
  {
   "cell_type": "markdown",
   "metadata": {},
   "source": [
    "Note that T5 tokenizers require spiece.model but google-t5 models require manual downloading of this file from HuggingFace "
   ]
  },
  {
   "cell_type": "code",
   "execution_count": null,
   "metadata": {},
   "outputs": [],
   "source": [
    "tokenizer.save_pretrained(output_dir)"
   ]
  },
  {
   "cell_type": "code",
   "execution_count": null,
   "metadata": {},
   "outputs": [],
   "source": [
    "model.save_pretrained(output_dir)"
   ]
  },
  {
   "cell_type": "code",
   "execution_count": null,
   "metadata": {},
   "outputs": [],
   "source": [
    "def fuse_and_save_models(peft_model_local_path):\n",
    "    SEQUENCE_MODELS = [\n",
    "          \"google-t5/t5-base\",\n",
    "          \"google-t5/t5-small\"\n",
    "          ]\n",
    "\n",
    "  # Load base model\n",
    "  # base_model_name = \"TinyLlama/TinyLlama-1.1B-Chat-v1.0\"\n",
    "  # base_model_name = \"google-t5/t5-base\"\n",
    "  base_model_name = \"google-t5/t5-small\"\n",
    "\n",
    "  tokenizer = AutoTokenizer.from_pretrained(\n",
    "          base_model_name,\n",
    "          load_in_8bit=True,\n",
    "          device_map=\"auto\", \n",
    "          use_fast=True,\n",
    "          padding_side=\"right\"\n",
    "          )\n",
    "  tokenizer.pad_token = tokenizer.eos_token\n",
    "  # if base_model_name in SEQUENCE_MODELS:\n",
    "  #   model = AutoModelForSeq2SeqLM.from_pretrained(base_model_name)\n",
    "  # else:\n",
    "  #   model = AutoModelForCausalLM.from_pretrained(base_model_name)\n",
    "\n",
    "  # Load LoRA-adapted model\n",
    "  peft_model_local_path = \"models/google-t5/t5-small/2025-02-13/02-44-10\"\n",
    "  # peft_model_path = f\"../{peft_model_local_path}\"\n",
    "  # peft_config = PeftConfig.from_pretrained(peft_model_path)\n",
    "  model = AutoPeftModelForSeq2SeqLM.from_pretrained(peft_model_local_path)\n",
    "\n",
    "  # set output directory for saving models and tokenizers\n",
    "  output_dir = f\"{peft_model_local_path}/fused_model\"\n"
   ]
  }
 ],
 "metadata": {
  "kernelspec": {
   "display_name": ".venv2",
   "language": "python",
   "name": "python3"
  },
  "language_info": {
   "codemirror_mode": {
    "name": "ipython",
    "version": 3
   },
   "file_extension": ".py",
   "mimetype": "text/x-python",
   "name": "python",
   "nbconvert_exporter": "python",
   "pygments_lexer": "ipython3",
   "version": "3.11.9"
  }
 },
 "nbformat": 4,
 "nbformat_minor": 2
}
